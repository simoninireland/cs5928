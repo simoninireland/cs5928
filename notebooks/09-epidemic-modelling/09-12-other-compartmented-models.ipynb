{
 "cells": [
  {
   "cell_type": "markdown",
   "id": "0f7ff47f",
   "metadata": {},
   "source": [
    "# Other compartmented models"
   ]
  },
  {
   "cell_type": "code",
   "execution_count": 16,
   "id": "fdaf9b9e",
   "metadata": {},
   "outputs": [],
   "source": [
    "# maths\n",
    "from numpy import linspace\n",
    "from numpy.random import default_rng\n",
    "\n",
    "# networks\n",
    "import networkx\n",
    "\n",
    "# data handling\n",
    "import pandas\n",
    "from pathlib import Path\n",
    "datasets = Path(\"../../datasets\")\n",
    "datasets.mkdir(parents=True, exist_ok=True)\n",
    "\n",
    "# simulation\n",
    "from epyc import Experiment, JSONLabNotebook, ParallelLab\n",
    "from epydemic import ERNetwork, StochasticDynamics, SIR\n",
    "\n",
    "# plotting\n",
    "import matplotlib\n",
    "%matplotlib inline\n",
    "%config InlineBackend.figure_format = 'png'\n",
    "matplotlib.rcParams['font.size'] = 10\n",
    "import matplotlib.pyplot as plt"
   ]
  },
  {
   "cell_type": "code",
   "execution_count": 4,
   "id": "cd50c2df",
   "metadata": {},
   "outputs": [],
   "source": [
    "class SIRDS(SIR):\n",
    "    '''A compartmented model representing a disease with limited-time immunity and\n",
    "    where we track the number of people who die rather than recovering.'''\n",
    "    \n",
    "    # Extra model parameters\n",
    "    P_DIE = \"pDie\"\n",
    "    T_RESUSCEPT = \"tResucept\"\n",
    "    \n",
    "    # Additional compartments\n",
    "    DIED = \"D\"\n",
    "    \n",
    "    def __init__(self):\n",
    "        super().__init__()\n",
    "        \n",
    "    def build(self, params):\n",
    "        '''Build the model.\n",
    "        \n",
    "        :params params: the experimental parameters'''\n",
    "        super().build(params)\n",
    "        \n",
    "        # remember the re-susceptibility time\n",
    "        self._tResuscept = params[self.T_RESUSCEPT]\n",
    "        \n",
    "    def remove(self, t, n):\n",
    "        '''Event triggered when someone acquires immunity. They\n",
    "        retain this immunity for a fixed time.\n",
    "        \n",
    "        :param t: simuation time\n",
    "        :param n: node that dies'''\n",
    "        self.changeCompartment(n, self.REMOVED)\n",
    "        \n",
    "        # post the event that removes their immunity\n",
    "        self.postEvent(t + self._tResuscept, n, self.resuscept)\n",
    "        \n",
    "    def die(self, t, n):\n",
    "        '''Event triggered when someone dies (instead of recovering to immunity).\n",
    "        \n",
    "        :param t: simuation time (ignored)\n",
    "        :param n: node that dies'''\n",
    "        self.changeCompartment(n, self.DIED)\n",
    "        \n",
    "    def resuscept(self, t, n):\n",
    "        '''Event triggered when someone reverts to susceptible.\n",
    "        \n",
    "        :param t: simuation time (ignored)\n",
    "        :param n: node that loses immunity'''\n",
    "        self.changeCompartment(n, self.SUSCEPTIBLE)"
   ]
  },
  {
   "cell_type": "code",
   "execution_count": 22,
   "id": "99ddda5d",
   "metadata": {},
   "outputs": [],
   "source": [
    "N = int(1e4)\n",
    "kmean = 10"
   ]
  },
  {
   "cell_type": "code",
   "execution_count": 13,
   "id": "c014de06",
   "metadata": {},
   "outputs": [],
   "source": [
    "# load our previous notebook\n",
    "nb = JSONLabNotebook(Path(datasets, \"09-12-sirds.json\"))"
   ]
  },
  {
   "cell_type": "code",
   "execution_count": 8,
   "id": "94215975",
   "metadata": {},
   "outputs": [
    {
     "name": "stdout",
     "output_type": "stream",
     "text": [
      "Current system has 16 cores in total\n"
     ]
    }
   ],
   "source": [
    "from multiprocessing import cpu_count\n",
    "print(\"Current system has {c} cores in total\".format(c=cpu_count()))"
   ]
  },
  {
   "cell_type": "code",
   "execution_count": 9,
   "id": "cdc5c872",
   "metadata": {},
   "outputs": [],
   "source": [
    "# pick the number of cores -- change this to change parallelism\n",
    "nCores = 6"
   ]
  },
  {
   "cell_type": "code",
   "execution_count": 14,
   "id": "e8d31100",
   "metadata": {},
   "outputs": [],
   "source": [
    "# create the lab\n",
    "lab = ParallelLab(notebook=nb, cores=nCores)"
   ]
  },
  {
   "cell_type": "code",
   "execution_count": 28,
   "id": "09976c75",
   "metadata": {},
   "outputs": [],
   "source": [
    "def make_sirds(pInfect, pDie = None, tResuscept = None, reps = 10):\n",
    "    \n",
    "    def sirds(lab):\n",
    "        lab[SIRDS.P_INFECTED] = 0.001\n",
    "        lab[SIRDS.P_INFECT] = pInfect\n",
    "        lab[SIRDS.P_REMOVE] = 1.0\n",
    "        lab['reps'] = range(reps)\n",
    "        if pDie is None:\n",
    "            lab[SIRDS.P_DIE] = linspace(0.1, 1.0, num=100)\n",
    "        else:\n",
    "            lab[SIRDS.P_DIE] = pDie\n",
    "        if tResuscept is None:\n",
    "            lab[SIRDS.T_RESUSCEPT] = linspace(0.1, 1.0, num=100)\n",
    "        else:\n",
    "            lab[SIRDS.T_RESUSCEPT] = tResuscept\n",
    "            \n",
    "    return sirds"
   ]
  },
  {
   "cell_type": "code",
   "execution_count": 29,
   "id": "bdb1e9eb",
   "metadata": {},
   "outputs": [
    {
     "data": {
      "text/plain": [
       "True"
      ]
     },
     "execution_count": 29,
     "metadata": {},
     "output_type": "execute_result"
    }
   ],
   "source": [
    "lab.createWith(\"sirds_0d_1r\",\n",
    "               make_sirds(linspace(0.0, 0.2), pDie=0.0, tResuscept=1.0, reps=10),\n",
    "               \"SIRDS epidemic for low values of pInfect, no death, unit re-susceptibility\")"
   ]
  },
  {
   "cell_type": "code",
   "execution_count": 30,
   "id": "f5066f44",
   "metadata": {},
   "outputs": [
    {
     "ename": "KeyError",
     "evalue": "'epydemic.sir.pInfect'",
     "output_type": "error",
     "traceback": [
      "\u001b[0;31m---------------------------------------------------------------------------\u001b[0m",
      "\u001b[0;31mKeyError\u001b[0m                                  Traceback (most recent call last)",
      "Cell \u001b[0;32mIn[30], line 6\u001b[0m\n\u001b[1;32m      4\u001b[0m \u001b[38;5;66;03m# plot the mean sizes of final outbreak size (the R compartment) for different values of pInfect\u001b[39;00m\n\u001b[1;32m      5\u001b[0m df \u001b[38;5;241m=\u001b[39m nb\u001b[38;5;241m.\u001b[39mdataframe(\u001b[38;5;124m\"\u001b[39m\u001b[38;5;124msirds_0d_1r\u001b[39m\u001b[38;5;124m\"\u001b[39m)\n\u001b[0;32m----> 6\u001b[0m pInfects \u001b[38;5;241m=\u001b[39m \u001b[38;5;28msorted\u001b[39m(\u001b[43mdf\u001b[49m\u001b[43m[\u001b[49m\u001b[43mSIR\u001b[49m\u001b[38;5;241;43m.\u001b[39;49m\u001b[43mP_INFECT\u001b[49m\u001b[43m]\u001b[49m\u001b[38;5;241m.\u001b[39munique())              \u001b[38;5;66;03m# extract the experimental pInfect values\u001b[39;00m\n\u001b[1;32m      7\u001b[0m rs_mean \u001b[38;5;241m=\u001b[39m (df\u001b[38;5;241m.\u001b[39mgroupby(SIR\u001b[38;5;241m.\u001b[39mP_INFECT))[SIR\u001b[38;5;241m.\u001b[39mREMOVED]\u001b[38;5;241m.\u001b[39mmean()  \u001b[38;5;66;03m# compute the mean of the repetitions at each pInfect\u001b[39;00m\n\u001b[1;32m      8\u001b[0m ax\u001b[38;5;241m.\u001b[39mplot(pInfects, rs_mean, \u001b[38;5;124m'\u001b[39m\u001b[38;5;124mr-\u001b[39m\u001b[38;5;124m'\u001b[39m, label\u001b[38;5;241m=\u001b[39m\u001b[38;5;124m\"\u001b[39m\u001b[38;5;124mmean\u001b[39m\u001b[38;5;124m\"\u001b[39m)\n",
      "File \u001b[0;32m~/programming/cs5928/venv3/lib/python3.11/site-packages/pandas/core/frame.py:3761\u001b[0m, in \u001b[0;36mDataFrame.__getitem__\u001b[0;34m(self, key)\u001b[0m\n\u001b[1;32m   3759\u001b[0m \u001b[38;5;28;01mif\u001b[39;00m \u001b[38;5;28mself\u001b[39m\u001b[38;5;241m.\u001b[39mcolumns\u001b[38;5;241m.\u001b[39mnlevels \u001b[38;5;241m>\u001b[39m \u001b[38;5;241m1\u001b[39m:\n\u001b[1;32m   3760\u001b[0m     \u001b[38;5;28;01mreturn\u001b[39;00m \u001b[38;5;28mself\u001b[39m\u001b[38;5;241m.\u001b[39m_getitem_multilevel(key)\n\u001b[0;32m-> 3761\u001b[0m indexer \u001b[38;5;241m=\u001b[39m \u001b[38;5;28;43mself\u001b[39;49m\u001b[38;5;241;43m.\u001b[39;49m\u001b[43mcolumns\u001b[49m\u001b[38;5;241;43m.\u001b[39;49m\u001b[43mget_loc\u001b[49m\u001b[43m(\u001b[49m\u001b[43mkey\u001b[49m\u001b[43m)\u001b[49m\n\u001b[1;32m   3762\u001b[0m \u001b[38;5;28;01mif\u001b[39;00m is_integer(indexer):\n\u001b[1;32m   3763\u001b[0m     indexer \u001b[38;5;241m=\u001b[39m [indexer]\n",
      "File \u001b[0;32m~/programming/cs5928/venv3/lib/python3.11/site-packages/pandas/core/indexes/range.py:349\u001b[0m, in \u001b[0;36mRangeIndex.get_loc\u001b[0;34m(self, key)\u001b[0m\n\u001b[1;32m    347\u001b[0m         \u001b[38;5;28;01mraise\u001b[39;00m \u001b[38;5;167;01mKeyError\u001b[39;00m(key) \u001b[38;5;28;01mfrom\u001b[39;00m \u001b[38;5;21;01merr\u001b[39;00m\n\u001b[1;32m    348\u001b[0m \u001b[38;5;28;01mif\u001b[39;00m \u001b[38;5;28misinstance\u001b[39m(key, Hashable):\n\u001b[0;32m--> 349\u001b[0m     \u001b[38;5;28;01mraise\u001b[39;00m \u001b[38;5;167;01mKeyError\u001b[39;00m(key)\n\u001b[1;32m    350\u001b[0m \u001b[38;5;28mself\u001b[39m\u001b[38;5;241m.\u001b[39m_check_indexing_error(key)\n\u001b[1;32m    351\u001b[0m \u001b[38;5;28;01mraise\u001b[39;00m \u001b[38;5;167;01mKeyError\u001b[39;00m(key)\n",
      "\u001b[0;31mKeyError\u001b[0m: 'epydemic.sir.pInfect'"
     ]
    },
    {
     "data": {
      "image/png": "[encoded data removed]",
      "text/plain": [
       "<Figure size 600x600 with 1 Axes>"
      ]
     },
     "metadata": {},
     "output_type": "display_data"
    }
   ],
   "source": [
    "fig = plt.figure(figsize=(6, 6))\n",
    "ax = fig.gca()\n",
    "\n",
    "# plot the mean sizes of final outbreak size (the R compartment) for different values of pInfect\n",
    "df = nb.dataframe(\"sirds_0d_1r\")\n",
    "pInfects = sorted(df[SIR.P_INFECT].unique())              # extract the experimental pInfect values\n",
    "rs_mean = (df.groupby(SIR.P_INFECT))[SIR.REMOVED].mean()  # compute the mean of the repetitions at each pInfect\n",
    "ax.plot(pInfects, rs_mean, 'r-', label=\"mean\")\n",
    "\n",
    "# fill in the title and axis labels\n",
    "ax.set_title(f'Total size of outbreak, mean of {reps} repetitions')\n",
    "ax.set_xlabel('$p_{infect}$')\n",
    "ax.set_xticks(pInfects[::25])                  # only label some selected points\n",
    "ax.set_ylabel('Number of infecteds')\n",
    "ax.legend(loc='upper left')\n",
    "plt.show()"
   ]
  },
  {
   "cell_type": "code",
   "execution_count": null,
   "id": "8eedaa18",
   "metadata": {},
   "outputs": [],
   "source": []
  }
 ],
 "metadata": {
  "kernelspec": {
   "display_name": "Python 3 (ipykernel)",
   "language": "python",
   "name": "python3"
  },
  "language_info": {
   "codemirror_mode": {
    "name": "ipython",
    "version": 3
   },
   "file_extension": ".py",
   "mimetype": "text/x-python",
   "name": "python",
   "nbconvert_exporter": "python",
   "pygments_lexer": "ipython3",
   "version": "3.11.3"
  }
 },
 "nbformat": 4,
 "nbformat_minor": 5
}
