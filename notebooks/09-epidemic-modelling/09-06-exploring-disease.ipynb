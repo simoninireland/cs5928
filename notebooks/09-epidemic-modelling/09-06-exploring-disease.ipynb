{
 "cells": [
  {
   "cell_type": "markdown",
   "id": "1248c957",
   "metadata": {},
   "source": [
    "# Exploring disease in `epydemic`"
   ]
  },
  {
   "cell_type": "markdown",
   "id": "a33c6c57",
   "metadata": {},
   "source": [
    "Let's now put together everything we know about epidemic models on networks, and do some simulations of an epidemic over a network. We'll make use of several things we've seen before:\n",
    "\n",
    "- the networked SIR model\n",
    "- random ER networks\n",
    "- parameters spaces for running experiments in bulk\n",
    "- everything-as-code, for reproducibility"
   ]
  },
  {
   "cell_type": "code",
   "execution_count": 1,
   "id": "5b4acc2f",
   "metadata": {},
   "outputs": [],
   "source": [
    "# numpy\n",
    "import numpy\n",
    "\n",
    "# data handling\n",
    "import pandas\n",
    "from pathlib import Path\n",
    "datasets = Path(\"../../datasets\")\n",
    "datasets.mkdir(parents=True, exist_ok=True)\n",
    "\n",
    "# simulation\n",
    "from epyc import Experiment, ParallelLab, JSONLabNotebook\n",
    "from epydemic import ERNetwork, SIR, StochasticDynamics\n",
    "\n",
    "# plotting\n",
    "import matplotlib\n",
    "%matplotlib inline\n",
    "%config InlineBackend.figure_format = 'png'\n",
    "matplotlib.rcParams['font.size'] = 10\n",
    "import matplotlib.pyplot as plt"
   ]
  },
  {
   "cell_type": "markdown",
   "id": "2588b83b",
   "metadata": {},
   "source": [
    "As before we'll create a notebook and a parallel lab to run our experiments in. The only difference is that we'll not create the notebook if it already exists: instead, we'll load it so any pre-computed result sets are brought in automatically. The we'll see how to execute experiments \"conditionally\", to create a result set if it doesn't already exist &ndash; but to select it if  it does. With care this can be used to reduce the amount of manual intervention while still avoiding unnecessary simulations. (It also saves time when presenting a notebook live...)"
   ]
  },
  {
   "cell_type": "code",
   "execution_count": 2,
   "id": "faf3db3d",
   "metadata": {},
   "outputs": [],
   "source": [
    "# create a lab notebook backed by a JSON file\n",
    "# (note that the notebook will be loaded, not overwritten, if it exists already)\n",
    "nb = JSONLabNotebook(Path(datasets, \"09-06-sir.json\"))"
   ]
  },
  {
   "cell_type": "code",
   "execution_count": 3,
   "id": "5c45ed82",
   "metadata": {},
   "outputs": [
    {
     "name": "stdout",
     "output_type": "stream",
     "text": [
      "Current system has 8 cores in total\n"
     ]
    }
   ],
   "source": [
    "from multiprocessing import cpu_count\n",
    "print(\"Current system has {c} cores in total\".format(c=cpu_count()))"
   ]
  },
  {
   "cell_type": "code",
   "execution_count": 4,
   "id": "d63d84b3",
   "metadata": {},
   "outputs": [],
   "source": [
    "# pick the number of cores -- change this to change parallelism\n",
    "nCores = 6"
   ]
  },
  {
   "cell_type": "code",
   "execution_count": 5,
   "id": "3a898f96",
   "metadata": {},
   "outputs": [],
   "source": [
    "# create the lab\n",
    "lab = ParallelLab(notebook=nb, cores=nCores)"
   ]
  },
  {
   "cell_type": "markdown",
   "id": "d4b2bf8e",
   "metadata": {},
   "source": [
    "## The simulation"
   ]
  },
  {
   "cell_type": "markdown",
   "id": "8b34b8ac",
   "metadata": {},
   "source": [
    "The trick is that instead of setting up the parameter space for experiments directly, we encapsulate this (and the other setup functions for running an experiment into a function."
   ]
  },
  {
   "cell_type": "code",
   "execution_count": 6,
   "id": "5c933632",
   "metadata": {},
   "outputs": [],
   "source": [
    "def sir_er(lab):\n",
    "    '''Simulate epidemics across the pInfect space.'''\n",
    "\n",
    "    # set the disease parameter space\n",
    "    lab[SIR.P_INFECTED] = 0.001\n",
    "    lab[SIR.P_INFECT] = numpy.linspace(0.0, 1.0,\n",
    "                                       num=100)\n",
    "    lab[SIR.P_REMOVE] = 0.002\n",
    "\n",
    "    # set the topology for the generated network\n",
    "    lab[ERNetwork.N] = int(1e4)\n",
    "    lab[ERNetwork.KMEAN] = 40\n",
    "\n",
    "    # create the model, network generator, and experiment\n",
    "    m = SIR()\n",
    "    g = ERNetwork()\n",
    "    e = StochasticDynamics(m, g)\n",
    "    \n",
    "    # run the experiment\n",
    "    lab.runExperiment(e)"
   ]
  },
  {
   "cell_type": "markdown",
   "id": "a9692431",
   "metadata": {},
   "source": [
    "That's basically the same code as we've used before, but within a function definition. We have some static parameters, and a \"range\" parameter (actually a `numpy` `linspace`) that sweeps through the range of possible infection probabilities. This parameter space will have 100 parameter sets in it, one for each such infectivity.\n",
    "\n",
    "Now we'll tell the lab to create a dataset using this function. If a result set with that tag already exists, we'll simply select it as current ready for use; if it doesn't we'll create it and run the construction function to run its experiments and populate it."
   ]
  },
  {
   "cell_type": "code",
   "execution_count": 7,
   "id": "34ea1756",
   "metadata": {},
   "outputs": [
    {
     "data": {
      "text/plain": [
       "True"
      ]
     },
     "execution_count": 7,
     "metadata": {},
     "output_type": "execute_result"
    }
   ],
   "source": [
    "lab.createWith(\"sir_er\",     # tag for a resultset\n",
    "               sir_er,       # function used to create the resultset (if it doesn't exist)\n",
    "               \"SIR epidemic on ER network for different sizes and infectivities\")"
   ]
  },
  {
   "cell_type": "markdown",
   "id": "cc5e35a0",
   "metadata": {},
   "source": [
    "So what was the result? We can plot the results of the final size of the R compartment (recording how many people were infected in total over the course of the epidemic) against the infectivity. First we grab the results into `pandas`."
   ]
  },
  {
   "cell_type": "code",
   "execution_count": 8,
   "id": "7d72c1c8",
   "metadata": {},
   "outputs": [],
   "source": [
    "df = nb.dataframe(\"sir_er\")"
   ]
  },
  {
   "cell_type": "markdown",
   "id": "3f01ed99",
   "metadata": {},
   "source": [
    "Then we can plot them directly using `matplotlib`."
   ]
  },
  {
   "cell_type": "code",
   "execution_count": 9,
   "id": "be3784ce",
   "metadata": {},
   "outputs": [
    {
     "data": {
      "image/png": "[encoded data removed]",
      "text/plain": [
       "<Figure size 600x600 with 1 Axes>"
      ]
     },
     "metadata": {},
     "output_type": "display_data"
    }
   ],
   "source": [
    "fig = plt.figure(figsize=(6, 6))\n",
    "ax = fig.gca()\n",
    "\n",
    "# plot the sizes of final outbreak size (the R compartment) for different values of pInfect\n",
    "ax.plot(df[SIR.P_INFECT], df[SIR.REMOVED], 'r.')\n",
    "\n",
    "# fill in the title and axis labels\n",
    "ax.set_title('Total size of outbreak')\n",
    "ax.set_xlabel('$p_{infect}$')\n",
    "ax.set_ylabel('Number of infecteds')\n",
    "plt.show()"
   ]
  },
  {
   "cell_type": "markdown",
   "id": "74f85b06",
   "metadata": {},
   "source": [
    "Hmm... That's not very informative. It looks like there's an epidemic outbreak, covering the whole network, for *every* infection probability. That's possible, of course. But perhaps we should dig deeper."
   ]
  },
  {
   "cell_type": "markdown",
   "id": "d78723c8",
   "metadata": {},
   "source": [
    "## Digging deeper"
   ]
  },
  {
   "cell_type": "markdown",
   "id": "8c275d62",
   "metadata": {},
   "source": [
    "Let's look at the early stages of the epidemic. When $p_{infect} = 0$ we'd obviously expect very little infection: the initial infections will infect no-one else, and then be removed. But at the next value we try, $p_{infect} = 0.01$, we have a *huge* outbreak. Maybe we ought to look in this narrow region to see what's happening."
   ]
  },
  {
   "cell_type": "code",
   "execution_count": 10,
   "id": "8b7b0e6e",
   "metadata": {},
   "outputs": [],
   "source": [
    "def sir_er_low(lab):\n",
    "    '''Simulate the low-infectivity epidemics.'''\n",
    "    \n",
    "    # set the disease parameter space\n",
    "    lab[SIR.P_INFECTED] = 0.001\n",
    "    lab[SIR.P_INFECT] = numpy.linspace(0.0, 0.01,\n",
    "                                       num=100)\n",
    "    lab[SIR.P_REMOVE] = 0.002\n",
    "\n",
    "    # set the topology for the generated network\n",
    "    lab[ERNetwork.N] = int(1e4)\n",
    "    lab[ERNetwork.KMEAN] = 40\n",
    "\n",
    "    # create the model, network generator, and experiment\n",
    "    m = SIR()\n",
    "    g = ERNetwork()\n",
    "    e = StochasticDynamics(m, g)\n",
    "    \n",
    "    # run the experiment\n",
    "    lab.runExperiment(e)"
   ]
  },
  {
   "cell_type": "code",
   "execution_count": 11,
   "id": "10ed5265",
   "metadata": {},
   "outputs": [
    {
     "data": {
      "text/plain": [
       "True"
      ]
     },
     "execution_count": 11,
     "metadata": {},
     "output_type": "execute_result"
    }
   ],
   "source": [
    "lab.createWith(\"sir_er_low\",\n",
    "               sir_er_low,\n",
    "               \"SIR epidemic on ER network, focusing on low infectivity\")"
   ]
  },
  {
   "cell_type": "markdown",
   "id": "18f6aa4f",
   "metadata": {},
   "source": [
    "Now we can generate essentially the same plot, but magnifying the early behaviour  of the epidemic."
   ]
  },
  {
   "cell_type": "code",
   "execution_count": 12,
   "id": "af433ae6",
   "metadata": {},
   "outputs": [
    {
     "data": {
      "image/png": "[encoded data removed]",
      "text/plain": [
       "<Figure size 600x600 with 1 Axes>"
      ]
     },
     "metadata": {},
     "output_type": "display_data"
    }
   ],
   "source": [
    "fig = plt.figure(figsize=(6, 6))\n",
    "ax = fig.gca()\n",
    "\n",
    "# plot the sizes of final outbreak size (the R compartment) for different values of pInfect\n",
    "df = nb.dataframe(\"sir_er_low\")\n",
    "ax.plot(df[SIR.P_INFECT], df[SIR.REMOVED], 'r.')\n",
    "\n",
    "# fill in the title and axis labels\n",
    "ax.set_title('Total size of outbreak (early stages)')\n",
    "ax.set_xlabel('$p_{infect}$')\n",
    "pInfects = numpy.linspace(0.0, 0.01, num=100)\n",
    "ax.set_xticks(pInfects[::25])                  # only label some selected points\n",
    "ax.set_ylabel('Number of infecteds')\n",
    "plt.show()"
   ]
  },
  {
   "cell_type": "markdown",
   "id": "adbc63a3",
   "metadata": {},
   "source": [
    "OK, so a steep curve, but not an immediate one: there seem to be some values between no outbreak and a full epidemic."
   ]
  },
  {
   "cell_type": "markdown",
   "id": "09d3cc33",
   "metadata": {},
   "source": [
    "## Epidemics at very low infectivity"
   ]
  },
  {
   "cell_type": "markdown",
   "id": "4e8ee31a",
   "metadata": {},
   "source": [
    "Let's zoom in again, this time focusing on the very low values."
   ]
  },
  {
   "cell_type": "code",
   "execution_count": 13,
   "id": "e0339a88",
   "metadata": {},
   "outputs": [],
   "source": [
    "def sir_er_verylow(lab):\n",
    "    '''Simulate the very low-infectivity epidemics.'''\n",
    "    \n",
    "    # set the disease parameter space\n",
    "    lab[SIR.P_INFECTED] = 0.001\n",
    "    lab[SIR.P_INFECT] = numpy.linspace(0.0, 0.0002,\n",
    "                                       num=100)\n",
    "    lab[SIR.P_REMOVE] = 0.002\n",
    "\n",
    "    # set the topology for the generated network\n",
    "    lab[ERNetwork.N] = int(1e4)\n",
    "    lab[ERNetwork.KMEAN] = 40\n",
    "\n",
    "    # create the model, network generator, and experiment\n",
    "    m = SIR()\n",
    "    g = ERNetwork()\n",
    "    e = StochasticDynamics(m, g)\n",
    "    \n",
    "    # run the experiment\n",
    "    lab.runExperiment(e)"
   ]
  },
  {
   "cell_type": "code",
   "execution_count": 14,
   "id": "1ca64a10",
   "metadata": {},
   "outputs": [
    {
     "data": {
      "text/plain": [
       "True"
      ]
     },
     "execution_count": 14,
     "metadata": {},
     "output_type": "execute_result"
    }
   ],
   "source": [
    "lab.createWith(\"sir_er_verylow\",\n",
    "               sir_er_verylow,\n",
    "               \"SIR epidemic on ER network, zoomed right in small infectivity\")"
   ]
  },
  {
   "cell_type": "code",
   "execution_count": 15,
   "id": "d000628e",
   "metadata": {},
   "outputs": [
    {
     "data": {
      "image/png": "[encoded data removed]",
      "text/plain": [
       "<Figure size 600x600 with 1 Axes>"
      ]
     },
     "metadata": {},
     "output_type": "display_data"
    }
   ],
   "source": [
    "fig = plt.figure(figsize=(6, 6))\n",
    "ax = fig.gca()\n",
    "\n",
    "# plot the sizes of final outbreak size (the R compartment) for different values of pInfect\n",
    "df = nb.dataframe(\"sir_er_verylow\")\n",
    "ax.plot(df[SIR.P_INFECT], df[SIR.REMOVED], 'r.')\n",
    "\n",
    "# fill in the title and axis labels\n",
    "ax.set_title('Total size of outbreak (initial stages)')\n",
    "ax.set_xlabel('$p_{infect}$')\n",
    "pInfects = numpy.linspace(0.0, 0.0002, num=100)\n",
    "ax.set_xticks(pInfects[::25])                  # only label some selected points\n",
    "ax.set_ylabel('Number of infecteds')\n",
    "plt.show()"
   ]
  },
  {
   "cell_type": "markdown",
   "id": "0ee17925",
   "metadata": {},
   "source": [
    "Now that's *very* different! There's still a very fast take-off of the epidemic size, but it's not instantaneous: there is some structure in the ways in which the sizes change over a very small range of $p_{infect}$ values. But notice that some values of $p_{infect} > 0$ still produce essentially no outbreak, which might not be what we expected."
   ]
  },
  {
   "cell_type": "markdown",
   "id": "50c43c87",
   "metadata": {},
   "source": [
    "## Critique"
   ]
  },
  {
   "cell_type": "markdown",
   "id": "f99e016f",
   "metadata": {},
   "source": [
    "This is quite a powerful approach. Of course there are lots of other things we could have done. We could have simulated the whole space of infectivity at very high resolution, and then zoomed-in to the dataset. But that would be incredibly wasteful of computing time, given that the results from values of $p_{infect} > 0.0002$ look to be the same! So doing a coarse simulation and then refining it is perhaps a better approach.\n",
    "\n",
    "There are some other things that seem awkward. We defined three different functions to create the three result sets, which differed only by the range of $p_{infect}$ they explored: surely we could do better, perhaps by defining a function that took a parameter range and *returned* a function that could create the data *for that range*? That would certainly reduce the amount of code, and so the scope for errors.\n",
    "\n",
    "There are a few more things we can ask as well. Are infectivities this low *always* so sensitive? &ndash; or there some other factor in play, like the network topology, or its size, or its mean degree?\n",
    "\n",
    "There are quite a lot of parameters we can vary. But each time we do so we increase the number of simulations we do, and the volume of data we collect. It's easy to imagine this getting out of hand, so we need to be careful and think carefully about what *might* affect the results and and how best to *demonstrate* any relationship."
   ]
  }
 ],
 "metadata": {
  "kernelspec": {
   "display_name": "Python 3 (ipykernel)",
   "language": "python",
   "name": "python3"
  },
  "language_info": {
   "codemirror_mode": {
    "name": "ipython",
    "version": 3
   },
   "file_extension": ".py",
   "mimetype": "text/x-python",
   "name": "python",
   "nbconvert_exporter": "python",
   "pygments_lexer": "ipython3",
   "version": "3.11.2"
  }
 },
 "nbformat": 4,
 "nbformat_minor": 5
}
