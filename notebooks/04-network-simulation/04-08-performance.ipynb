{
 "cells": [
  {
   "cell_type": "markdown",
   "metadata": {},
   "source": [
    "# Comparing the performances of the two simulation dynamics"
   ]
  },
  {
   "cell_type": "markdown",
   "metadata": {},
   "source": [
    "The synchronous dynamics is simple but (we claim) potentially inefficient, because it processes \"empty bins\" where no events happen. By contrast, stochastic dynamics has no such overheads, and trades a more complicated mathematical formulation for improved performance.\n",
    "\n",
    "In this notebook we test the efficiency claims by comparing the two dynamics on simulations on the same kind of network. We'll also check whether they are coimparable in other ways, for example do they generate events in the same pattern over time."
   ]
  },
  {
   "cell_type": "code",
   "execution_count": 3,
   "metadata": {
    "collapsed": false,
    "jupyter": {
     "outputs_hidden": false
    }
   },
   "outputs": [],
   "source": [
    "# simulation support\n",
    "from epyc import Experiment\n",
    "from epydemic import SIR, ERNetwork, SynchronousDynamics, StochasticDynamics\n",
    "\n",
    "# analysis and plotting\n",
    "import matplotlib\n",
    "%matplotlib inline\n",
    "%config InlineBackend.figure_format = 'png'\n",
    "matplotlib.rcParams['font.size'] = 10\n",
    "import matplotlib.pyplot as plt"
   ]
  },
  {
   "cell_type": "markdown",
   "metadata": {},
   "source": [
    "We will choose a set of disease and network parameters to tryt with both approaches."
   ]
  },
  {
   "cell_type": "code",
   "execution_count": 38,
   "metadata": {},
   "outputs": [],
   "source": [
    "params = dict()\n",
    "\n",
    "# ER network parameters\n",
    "params[ERNetwork.N] = int(1e5)\n",
    "params[ERNetwork.KMEAN] = 20\n",
    "\n",
    "# SIR parameters\n",
    "params[SIR.P_INFECTED] = 0.001\n",
    "params[SIR.P_INFECT] = 0.002\n",
    "params[SIR.P_REMOVE] = 0.001"
   ]
  },
  {
   "cell_type": "markdown",
   "metadata": {},
   "source": [
    "We also need a process model."
   ]
  },
  {
   "cell_type": "code",
   "execution_count": 6,
   "metadata": {},
   "outputs": [],
   "source": [
    "m = SIR()"
   ]
  },
  {
   "cell_type": "markdown",
   "metadata": {},
   "source": [
    "## Synchronous dynamics"
   ]
  },
  {
   "cell_type": "markdown",
   "metadata": {},
   "source": [
    "Let's begin with the synchronous case."
   ]
  },
  {
   "cell_type": "code",
   "execution_count": 39,
   "metadata": {
    "collapsed": false,
    "jupyter": {
     "outputs_hidden": false
    }
   },
   "outputs": [],
   "source": [
    "sim = SynchronousDynamics(m, ERNetwork())\n",
    "syn = sim.set(params).run()\n",
    "\n",
    "print('Epidemic covered {percent:.2f}% of the network'.format(percent=(syn[Experiment.RESULTS][SIR.REMOVED] / params[ERNetwork.N]) * 100))"
   ]
  },
  {
   "cell_type": "markdown",
   "metadata": {},
   "source": [
    "So we got a large epidemic."
   ]
  },
  {
   "cell_type": "markdown",
   "metadata": {},
   "source": [
    "## Stochastic dynamics"
   ]
  },
  {
   "cell_type": "markdown",
   "metadata": {},
   "source": [
    "Running the same experiment using the stochastic dynamics, we'd expect to get similar results."
   ]
  },
  {
   "cell_type": "code",
   "execution_count": 42,
   "metadata": {},
   "outputs": [
    {
     "name": "stdout",
     "output_type": "stream",
     "text": [
      "{'epydemic.sir.S': 0, 'epydemic.sir.I': 0, 'epydemic.sir.R': 100000}\n",
      "Epidemic covered 100.00% of the network\n"
     ]
    }
   ],
   "source": [
    "sim = StochasticDynamics(m, ERNetwork())\n",
    "sto = sim.set(params).run()\n",
    "\n",
    "print('Epidemic covered {percent:.2f}% of the network'.format(percent=(sto[Experiment.RESULTS][SIR.REMOVED] / params[ERNetwork.N]) * 100))"
   ]
  },
  {
   "cell_type": "markdown",
   "metadata": {},
   "source": [
    "That certainly seems to be comparable at a gross level, which gives (some) confidence that they two techniques generater the same size of epidemic overall."
   ]
  },
  {
   "cell_type": "markdown",
   "metadata": {},
   "source": [
    "## Comparison"
   ]
  },
  {
   "cell_type": "markdown",
   "metadata": {},
   "source": [
    "We can of course dig-into the results in more detail. There are a lot of potentially interesting things to explore, and we'll just pick two of the most important: is one method faster than the other?, and, do they look like they generate a similar train of events?"
   ]
  },
  {
   "cell_type": "markdown",
   "metadata": {},
   "source": [
    "### Performance"
   ]
  },
  {
   "cell_type": "markdown",
   "metadata": {},
   "source": [
    "Probably the most important measure of performace is \"wallclock time\", the time that elapsed while the simulation ran: "
   ]
  },
  {
   "cell_type": "code",
   "execution_count": 44,
   "metadata": {
    "collapsed": false,
    "jupyter": {
     "outputs_hidden": false
    }
   },
   "outputs": [
    {
     "name": "stdout",
     "output_type": "stream",
     "text": [
      "Synchronous 380.87s\n",
      "Stochastic  55.89s\n"
     ]
    }
   ],
   "source": [
    "print(\"Synchronous {elapsed:.2f}s\".format(elapsed=syn[Experiment.METADATA][Experiment.ELAPSED_TIME]))\n",
    "print(\"Stochastic  {elapsed:.2f}s\".format(elapsed=sto[Experiment.METADATA][Experiment.ELAPSED_TIME]))"
   ]
  },
  {
   "cell_type": "markdown",
   "metadata": {},
   "source": [
    "Where is the time difference coming from? The synchronous simulation simulated a lot of timesteps where nothing happened: there were no events, just from the random nature of the process and the rates of events. The stochastic simulation jumped over these empty periods and only did work when there was work to do. That's clearly a benefit, and one can imagine that, for larger simulations and those whose events are less frequent, it might become a really significant computational saving.\n",
    "\n",
    "If you change the experimental parameters you can construct alternative scenarios, though. For example, having high-probability events pushes the events together, meaning there are fewer empty bins and so less overhead. (I've even found cases where the synchronous dynamics is *faster* than the stochastic, although only slightly.) The point is, though, that the stochastic dynamics is more *reliably* fast than the synchronous, and so is probably to be preferred unless you really need the extra flexibility."
   ]
  },
  {
   "cell_type": "markdown",
   "metadata": {},
   "source": [
    "### Equivalence of event intervals"
   ]
  },
  {
   "cell_type": "markdown",
   "metadata": {},
   "source": [
    "But a performance benefit is only useful if the results are correct: there's no point in doing the wrong things faster, after all. So we need to convince ourselves that, at the very least, the two simulations conducted for the same parameters produce plausibly comparable results &ndash; even while we accept that statistical variations might occur.\n",
    "\n",
    "Although we are using two different simulation techniques, we claim that they are \"the same\" in the sense of simulating the same process dynamics. One way to test this is to look at the distance between successive events. If the events are happening with similar distributions, we would expect the inter-event time distributins to be similar too.\n",
    "\n",
    "To do this we need to capture when (in simulation time) each event occurs. We can do this quite simply, by defining a new compartmented model whose results include the simulation times for events."
   ]
  },
  {
   "cell_type": "code",
   "execution_count": 61,
   "metadata": {
    "collapsed": true,
    "jupyter": {
     "outputs_hidden": true
    }
   },
   "outputs": [],
   "source": [
    "class SIR_EventDistribution(SIR):\n",
    "    '''An SIR model that also captures the times of all events.'''\n",
    "    \n",
    "    def __init__(self):\n",
    "        super().__init__()\n",
    "        \n",
    "        # create a place to store the sequence of event times\n",
    "        self._eventDistribution = []\n",
    "        \n",
    "    def reset(self):\n",
    "        super().reset()\n",
    "        self._eventDistribution = []\n",
    "\n",
    "    def results(self):\n",
    "        rc = super().results()\n",
    "        \n",
    "        # add the event times to the results\n",
    "        rc['event_times'] = self._eventDistribution\n",
    "        \n",
    "        return rc\n",
    "\n",
    "    def infect(self, t, e):\n",
    "        # perform the base event\n",
    "        super().infect(t, e)\n",
    "        \n",
    "        # record the event time\n",
    "        self._eventDistribution.append(t)\n",
    "        \n",
    "    def remove(self, t, n):\n",
    "        # perform the base event\n",
    "        super().remove(t, n)\n",
    "        \n",
    "        # record the event time\n",
    "        self._eventDistribution.append(t) "
   ]
  },
  {
   "cell_type": "markdown",
   "metadata": {},
   "source": [
    "We can now run the same process with different dynamics, and capture the event trains that are generated."
   ]
  },
  {
   "cell_type": "code",
   "execution_count": 62,
   "metadata": {
    "collapsed": false,
    "jupyter": {
     "outputs_hidden": false
    }
   },
   "outputs": [],
   "source": [
    "# new model\n",
    "m = SIR_EventDistribution()\n",
    "\n",
    "# synchronous dynamics\n",
    "sim = SynchronousDynamics(m, ERNetwork())\n",
    "syn_res = sim.set(params).run()\n",
    "syn_events = syn_res[Experiment.RESULTS]['event_times']\n",
    "\n",
    "# stochastic dynamics\n",
    "sim = StochasticDynamics(m, ERNetwork())\n",
    "sto_res = sim.set(params).run()\n",
    "sto_events = sto_res[Experiment.RESULTS]['event_times']"
   ]
  },
  {
   "cell_type": "markdown",
   "metadata": {},
   "source": [
    "We can now compute the inter-event times. Since we're working with continuous and discrete time depending on the dynamics, histogramming the intervals should generate similar curves: "
   ]
  },
  {
   "cell_type": "code",
   "execution_count": 64,
   "metadata": {
    "collapsed": false,
    "jupyter": {
     "outputs_hidden": false
    }
   },
   "outputs": [
    {
     "data": {
      "image/png": "[encoded data removed]",
      "text/plain": [
       "<Figure size 800x500 with 1 Axes>"
      ]
     },
     "metadata": {},
     "output_type": "display_data"
    }
   ],
   "source": [
    "fig = plt.figure(figsize = (8, 5))\n",
    "\n",
    "# work out inter-event times\n",
    "l = 0\n",
    "syn_inter = []\n",
    "for i in range(1, len(syn_events) - 1):\n",
    "    syn_inter.append(syn_events[i] - l)\n",
    "    l = syn_events[i]\n",
    "sto_inter = []\n",
    "l = 0\n",
    "for i in range(1, len(sto_events) - 1):\n",
    "    sto_inter.append(sto_events[i] - l)\n",
    "    l = sto_events[i]\n",
    "\n",
    "# plot the histogram of the distribution\n",
    "plt.hist([sto_inter, syn_inter],\n",
    "         bins = range(10),\n",
    "         log = True,\n",
    "         label = ['stochastic', 'synchronous'])\n",
    "\n",
    "plt.title('Distribution of inter-event times')\n",
    "plt.xlabel('Inter-event time')\n",
    "plt.ylabel('$log(\\mathrm{events})$')\n",
    "plt.legend()\n",
    "_ = plt.show()"
   ]
  },
  {
   "cell_type": "markdown",
   "metadata": {},
   "source": [
    "So those are *similar*, both dropping off exponentially as we'd expect. They don't follow exactly the same distribution, but that could just be the result of the stochastic nature of the process: we ran the two dynamics over the same network, but from different initial (random) seedings of nodes. Or it could be because the synchronous approach is less exact because of interactions between events. If we wanted a closer look, we'd have to perform some repetitions to see whether we got different results repeatedly or whether things evened out &ndash; but that's something for another time."
   ]
  }
 ],
 "metadata": {
  "kernelspec": {
   "display_name": "Python 3 (ipykernel)",
   "language": "python",
   "name": "python3"
  },
  "language_info": {
   "codemirror_mode": {
    "name": "ipython",
    "version": 3
   },
   "file_extension": ".py",
   "mimetype": "text/x-python",
   "name": "python",
   "nbconvert_exporter": "python",
   "pygments_lexer": "ipython3",
   "version": "3.12.4"
  }
 },
 "nbformat": 4,
 "nbformat_minor": 4
}
