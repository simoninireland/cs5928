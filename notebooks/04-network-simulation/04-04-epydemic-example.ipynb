{
 "cells": [
  {
   "cell_type": "markdown",
   "id": "84553dd4",
   "metadata": {},
   "source": [
    "# An example of `epydemic`"
   ]
  },
  {
   "cell_type": "markdown",
   "id": "1fd979c4",
   "metadata": {},
   "source": [
    "This notebook extracts the code from the slides as a basis for experimentation.\n",
    "\n",
    "A lot of the methods described spearately in the slides have to be put into one cell here, because they're all part of the same class.\n",
    "\n",
    "Fiorst we impoirt the classes we need. We *don't* import `epydemic`'s SIR class as that's what we're going to be building in this notebook &ndash; you can find the real code [here](https://github.com/simoninireland/epydemic/blob/master/epydemic/sir_model.py)."
   ]
  },
  {
   "cell_type": "code",
   "execution_count": 1,
   "id": "fe0c4770",
   "metadata": {},
   "outputs": [],
   "source": [
    "# simulation support\n",
    "from epyc import Experiment\n",
    "from epydemic import ERNetwork, StochasticDynamics, CompartmentedModel\n",
    "\n",
    "# analysis and plotting\n",
    "import matplotlib\n",
    "%matplotlib inline\n",
    "%config InlineBackend.figure_format = 'png'\n",
    "matplotlib.rcParams['font.size'] = 10\n",
    "import matplotlib.pyplot as plt"
   ]
  },
  {
   "cell_type": "markdown",
   "id": "6aa46474",
   "metadata": {},
   "source": [
    "The model consists of four parts:\n",
    "\n",
    "1. Some setup code defining parameter names we need\n",
    "2. A `build()` method that builds the thigs we need to run the simulation\n",
    "3. Two evens, `infect()` and `remove()`, that implement the basic discrete events\n",
    "4. Results-extraction code in `results()`"
   ]
  },
  {
   "cell_type": "code",
   "execution_count": 2,
   "id": "998896fb",
   "metadata": {},
   "outputs": [],
   "source": [
    "class SIR(CompartmentedModel):\n",
    "\n",
    "    # ---------- Setup ----------\n",
    "    \n",
    "    # Names for parameters to be passed to experiments\n",
    "    P_INFECTED = 'epydemic.sir.pInfected'\n",
    "    P_INFECT = 'epydemic.sir.pInfect'\n",
    "    P_REMOVE = 'epydemic.sir.pRemove'\n",
    "\n",
    "    # Names for the compartments, for use in node attributes\n",
    "    SUSCEPTIBLE = 'epydemic.sir.S'\n",
    "    INFECTED = 'epydemic.sir.I'\n",
    "    REMOVED = 'epydemic.sir.R'   \n",
    "    SI = 'epydemic.sir.SI'\n",
    "\n",
    "    \n",
    "    # ---------- Building the simulation model ----------\n",
    "    \n",
    "    def build(self, params):\n",
    "        super().build(params)\n",
    "\n",
    "        # extract the parameters we need\n",
    "        pInfected = params[self.P_INFECTED]\n",
    "        pInfect = params[self.P_INFECT]\n",
    "        pRemove = params[self.P_REMOVE]\n",
    "\n",
    "        # create the compartments\n",
    "        self.addCompartment(self.SUSCEPTIBLE, 1 - pInfected)\n",
    "        self.addCompartment(self.INFECTED, pInfected)\n",
    "        self.addCompartment(self.REMOVED, 0.0)\n",
    "\n",
    "        # declare the sets we need to track\n",
    "        self.trackEdgesBetweenCompartments(self.SUSCEPTIBLE,\n",
    "                                           self.INFECTED,\n",
    "                                           name=self.SI)\n",
    "        self.trackNodesInCompartment(self.INFECTED)\n",
    "    \n",
    "        # add stochastic events to these sets\n",
    "        self.addEventPerElement(self.SI,\n",
    "                                pInfect,\n",
    "                                self.infect,            # defined below\n",
    "                                name=self.INFECTED)\n",
    "        self.addEventPerElement(self.INFECTED,\n",
    "                                pRemove,\n",
    "                                self.remove,            # defined below\n",
    "                                name=self.REMOVED)\n",
    "\n",
    "        \n",
    "    # ---------- Discrete events ----------\n",
    "    \n",
    "    def infect(self, t, e):\n",
    "       # extract the “S” end of the edge\n",
    "       (n, _) = e\n",
    "\n",
    "       # change the “S” to an “I”\n",
    "       self.changeCompartment(n, self.INFECTED)\n",
    "        \n",
    "    def remove(self, t, n):\n",
    "       # change to an “R\"\n",
    "       self.changeCompartment(n, self.REMOVED)\n",
    "    \n",
    "    \n",
    "    # ---------- Results extraction ----------\n",
    "    \n",
    "    def results(self):\n",
    "        rc = super().results()\n",
    "\n",
    "        # add the size of each compartment\n",
    "        for c in self.compartments():\n",
    "            rc[c] = len(self.compartment(c))\n",
    "\n",
    "        # return the results\n",
    "        return rc"
   ]
  },
  {
   "cell_type": "markdown",
   "id": "23985846",
   "metadata": {},
   "source": [
    "To run a simulation we first define the parameter space that sets up the values of the parameters we need in a Python dict."
   ]
  },
  {
   "cell_type": "code",
   "execution_count": 3,
   "id": "be23cc35",
   "metadata": {},
   "outputs": [],
   "source": [
    "# create a dict for the experimental parameters\n",
    "params = dict()\n",
    "\n",
    "# set the topology for the generated network\n",
    "params[ERNetwork.N] = int(1e5)\n",
    "params[ERNetwork.KMEAN] = 20\n",
    "\n",
    "# set the disease parameters\n",
    "params[SIR.P_INFECTED] = 0.01\n",
    "params[SIR.P_INFECT] = 0.02\n",
    "params[SIR.P_REMOVE] = 0.002"
   ]
  },
  {
   "cell_type": "markdown",
   "id": "cf058b6b",
   "metadata": {},
   "source": [
    "(This sets up a single experiment: later we'll see how to create a parameter space defining a complete *set* of experiments and perfoirming them all with one command.) We can then create and run the experiment:"
   ]
  },
  {
   "cell_type": "code",
   "execution_count": 4,
   "id": "74640f83",
   "metadata": {},
   "outputs": [],
   "source": [
    "# create the process and generator\n",
    "p = SIR()\n",
    "g = ERNetwork()\n",
    "\n",
    "# run the experiment\n",
    "rc = StochasticDynamics(p, g).set(params).run()"
   ]
  },
  {
   "cell_type": "markdown",
   "id": "f4cee3bd",
   "metadata": {},
   "source": [
    "Time passes... How much depends on the machine on which you run the experiment, which is inherently sequential.\n",
    "\n",
    "What we get back when the experiment completes is a *results dict* structured in a particular way, with parameters, results, and metadata. The parameters section records the parameters of the experiment; the results section contains the information we collected in the `results()` method; and the metadata section includes some data collected about how the experiment ran:"
   ]
  },
  {
   "cell_type": "code",
   "execution_count": 5,
   "id": "0f12e869",
   "metadata": {},
   "outputs": [
    {
     "data": {
      "text/plain": [
       "{'parameters': {'N': 100000,\n",
       "  'kmean': 20,\n",
       "  'epydemic.sir.pInfected': 0.01,\n",
       "  'epydemic.sir.pInfect': 0.02,\n",
       "  'epydemic.sir.pRemove': 0.002,\n",
       "  'topology': 'ER'},\n",
       " 'metadata': {'epyc.experiment.classname': 'epydemic.stochasticdynamics.StochasticDynamics',\n",
       "  'epyc.experiment.start_time': datetime.datetime(2023, 10, 10, 9, 54, 33, 149013),\n",
       "  'epyc.experiment.setup_time': 5.918024,\n",
       "  'epydemic.monitor.time': 5178.011941032238,\n",
       "  'epydemic.monitor.events': 198998,\n",
       "  'epyc.experiment.experiment_time': 68.799738,\n",
       "  'epyc.experiment.teardown_time': 1.7e-05,\n",
       "  'epyc.experiment.end_time': datetime.datetime(2023, 10, 10, 9, 55, 47, 866792),\n",
       "  'epyc.experiment.elapsed_time': 74.71777900000001,\n",
       "  'epyc.experiment.status': True},\n",
       " 'results': {'epydemic.sir.S': 0,\n",
       "  'epydemic.sir.I': 0,\n",
       "  'epydemic.sir.R': 100000}}"
      ]
     },
     "execution_count": 5,
     "metadata": {},
     "output_type": "execute_result"
    }
   ],
   "source": [
    "rc"
   ]
  },
  {
   "cell_type": "markdown",
   "id": "cfc1535c",
   "metadata": {},
   "source": [
    "We can interrogate this data to extract the total running time of the expertiment:"
   ]
  },
  {
   "cell_type": "code",
   "execution_count": 6,
   "id": "e58de193",
   "metadata": {},
   "outputs": [
    {
     "name": "stdout",
     "output_type": "stream",
     "text": [
      "0:01:14.717779\n"
     ]
    }
   ],
   "source": [
    "print(rc[Experiment.METADATA][Experiment.END_TIME] - rc[Experiment.METADATA][Experiment.START_TIME])"
   ]
  },
  {
   "cell_type": "markdown",
   "id": "bc1dad6f",
   "metadata": {},
   "source": [
    "(This was run on a 3.2GHz Intel Core i5-6500: you may get different timings."
   ]
  }
 ],
 "metadata": {
  "kernelspec": {
   "display_name": "Python 3 (ipykernel)",
   "language": "python",
   "name": "python3"
  },
  "language_info": {
   "codemirror_mode": {
    "name": "ipython",
    "version": 3
   },
   "file_extension": ".py",
   "mimetype": "text/x-python",
   "name": "python",
   "nbconvert_exporter": "python",
   "pygments_lexer": "ipython3",
   "version": "3.11.5"
  }
 },
 "nbformat": 4,
 "nbformat_minor": 5
}
