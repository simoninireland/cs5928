{
 "cells": [
  {
   "cell_type": "markdown",
   "id": "61c9867f",
   "metadata": {},
   "source": [
    "# Modelling vaccination strategies"
   ]
  },
  {
   "cell_type": "markdown",
   "id": "182fdf2c",
   "metadata": {},
   "source": [
    "Vaccination is an adaptive system with which we've all become familiar. The idea is simple to modify the trajectory of an epidemic outbreak by changing the susceptibilities of the population in which is spreads. In this notebook we'll explore how vaccination strategies can operate.\n",
    "\n",
    "You can regard vaccination as an *intrinsic* adaptation, whereby the sidease process &ndash; SIR in our example &ndash; view the population differently, and this is the approach we'll take. One could also view is as *extrnisic* adaptation and change the susceptibilities in another process, and that would make sense if one wanted to model a vaccination *programme* alongside an outbreak. For the purposes of this notebook we'll assume that the disease breaks-out in a pre-vaccinated population."
   ]
  },
  {
   "cell_type": "code",
   "execution_count": 1,
   "id": "107a4f5e",
   "metadata": {},
   "outputs": [],
   "source": [
    "# numpy\n",
    "import numpy\n",
    "from numpy.random import default_rng\n",
    "\n",
    "# simulation\n",
    "from epyc import Experiment, JSONLabNotebook, ParallelLab\n",
    "from epydemic import SIR, PLCNetwork, StochasticDynamics, ProcessSequence, Monitor\n",
    "\n",
    "# networks\n",
    "import networkx\n",
    "from collections import Counter\n",
    "\n",
    "# data handling\n",
    "import pandas\n",
    "from pathlib import Path\n",
    "datasets = Path(\"../../datasets\")\n",
    "datasets.mkdir(parents=True, exist_ok=True)\n",
    "\n",
    "# plotting\n",
    "import matplotlib\n",
    "%matplotlib inline\n",
    "%config InlineBackend.figure_format = 'png'\n",
    "matplotlib.rcParams['font.size'] = 10\n",
    "import matplotlib.pyplot as plt"
   ]
  },
  {
   "cell_type": "code",
   "execution_count": 2,
   "id": "aeec5ff3",
   "metadata": {},
   "outputs": [],
   "source": [
    "nb = JSONLabNotebook(Path(datasets, \"10-05-vaccination.json\"))"
   ]
  },
  {
   "cell_type": "code",
   "execution_count": 3,
   "id": "33de8f6b",
   "metadata": {},
   "outputs": [
    {
     "name": "stdout",
     "output_type": "stream",
     "text": [
      "Current system has 8 cores in total\n"
     ]
    }
   ],
   "source": [
    "from multiprocessing import cpu_count\n",
    "print(\"Current system has {c} cores in total\".format(c=cpu_count()))"
   ]
  },
  {
   "cell_type": "code",
   "execution_count": 4,
   "id": "dd78e2f8",
   "metadata": {},
   "outputs": [],
   "source": [
    "# pick the number of cores -- change this to change parallelism\n",
    "nCores = 6"
   ]
  },
  {
   "cell_type": "code",
   "execution_count": 5,
   "id": "0a89500a",
   "metadata": {},
   "outputs": [],
   "source": [
    "lab = ParallelLab(notebook=nb, cores=nCores)"
   ]
  },
  {
   "cell_type": "markdown",
   "id": "dcac9207",
   "metadata": {},
   "source": [
    "## How vaccination works &ndash; in practice and theory"
   ]
  },
  {
   "cell_type": "markdown",
   "id": "0b31b420",
   "metadata": {},
   "source": [
    "Vaccination works by exposing individuals' immune systems to fragments of a pathogen &ndash; *not* to the pathogen itself, but to some component of it that will trigger an iimmune reaction. This allows the immune system to learn the characteristics of of the pathogen so that, if it is encountered later, it is recognised as being an invader more quickly than would be the case if the pathogen was unknown. ItIn real disease outbreaks it's important to realise than a vaccine doesn't stop someone becoming infected &ndash; but it *does* cause their immune system to react more quickly and more forcefully, which can lead to the pathogen being eliminated before it can cause either symptoms or transmission to others. In many cases there's a more nuanced response that reduces, but doesn't entirely eliminate, symptoms and transmission.\n",
    "\n",
    "To look at outbreaks in simulation, we need to decide how many of these nuances we want to include. As an initial model, the simplest approach is to assume that a vaccinated person is entirely and permanently immune from infection. Essentially they're \"pre-removed\" in the sense of SIR, where an R-individual takes no further part in the disease dynamics. Later we can relax this to build more sophisticated disease models that account for (for example) partial, variable, or waning immune reponses, possibly using additional compartments and more transitions and parameters."
   ]
  },
  {
   "cell_type": "markdown",
   "id": "8bf9ec8a",
   "metadata": {},
   "source": [
    "## Random vaccination"
   ]
  },
  {
   "cell_type": "markdown",
   "id": "e594b164",
   "metadata": {},
   "source": [
    "Our adaptive vaccination process will simply treat vaccinated individuals as removed, changing the initial compartment of a random fraction of individuals to R."
   ]
  },
  {
   "cell_type": "code",
   "execution_count": 6,
   "id": "704c00b7",
   "metadata": {},
   "outputs": [],
   "source": [
    "class VaccinatedSIR(SIR):\n",
    "    \n",
    "    P_VACCINATED = 'pVaccinated'   #: Probability that an individual is initially removed.\n",
    "    \n",
    "    def __init__(self):\n",
    "        super().__init__()\n",
    "        \n",
    "    def build(self, params):\n",
    "        super().build(params)\n",
    "\n",
    "        # change the initial compartment probabilities to vaccinate (remove) some fraction\n",
    "        pInfected = params[SIR.P_INFECTED]\n",
    "        pVaccinated = params[self.P_VACCINATED]\n",
    "        self.changeCompartmentInitialOccupancy(SIR.INFECTED, pInfected)\n",
    "        self.changeCompartmentInitialOccupancy(SIR.REMOVED, pVaccinated)\n",
    "        self.changeCompartmentInitialOccupancy(SIR.SUSCEPTIBLE, 1.0 - pInfected - pVaccinated)\n",
    "\n",
    "        # also monitor other compartments\n",
    "        self.trackNodesInCompartment(SIR.SUSCEPTIBLE)\n",
    "        self.trackNodesInCompartment(SIR.REMOVED)"
   ]
  },
  {
   "cell_type": "markdown",
   "id": "c3da1766",
   "metadata": {},
   "source": [
    "We want to look at tghe progress of an outbreak and not just its end-state. To do this `epydemic` includes a process called `Monitor` that forms time series for all the compartments in a compartmented model at different sample points. When we built the model above we added tracking for the susceptible and removed compartments, which aren't tracked by default. `Monitor` can then be combined with the disease process to monitor its progress."
   ]
  },
  {
   "cell_type": "code",
   "execution_count": 7,
   "id": "940f84f0",
   "metadata": {},
   "outputs": [],
   "source": [
    "def makeVaccinated(N, alpha, cutoff,\n",
    "                   pInfected, pInfect, pRemove, pVaccinated,\n",
    "                   T):\n",
    "    \n",
    "    def sir_vac(lab):\n",
    "        lab[SIR.P_INFECTED] = pInfected\n",
    "        lab[SIR.P_INFECT] = pInfect\n",
    "        lab[SIR.P_REMOVE] = pRemove\n",
    "        lab[VaccinatedSIR.P_VACCINATED] = pVaccinated\n",
    "        lab[PLCNetwork.N] = N\n",
    "        lab[PLCNetwork.EXPONENT] = alpha\n",
    "        lab[PLCNetwork.CUTOFF] = cutoff\n",
    "        \n",
    "        # sample the compartments every 50 timesteps\n",
    "        lab[Monitor.DELTA] = T / 50\n",
    "\n",
    "        v = VaccinatedSIR()\n",
    "        v.setMaximumTime(T)\n",
    "        m = ProcessSequence([v, Monitor()])\n",
    "        e = StochasticDynamics(m, PLCNetwork())\n",
    "        lab.runExperiment(e)\n",
    "        \n",
    "    return sir_vac"
   ]
  },
  {
   "cell_type": "markdown",
   "id": "8413b748",
   "metadata": {},
   "source": [
    "We can then see what happens to the outbreaks. We'll use a powerlaw-with-cutoff topology, since we believe that is a decent model of a human contact structure, but change the cutoff to allow more highly-connected nodes to emerge."
   ]
  },
  {
   "cell_type": "code",
   "execution_count": 8,
   "id": "1e594766",
   "metadata": {},
   "outputs": [],
   "source": [
    "# Network parameters\n",
    "N = int(1e4)\n",
    "alpha = 2\n",
    "cutoffs = [10, 30, 40, 80]\n",
    "\n",
    "# Simulation time\n",
    "T = 1000\n",
    "\n",
    "# Disease parameters\n",
    "pInfected = 0.001\n",
    "pInfect = 0.01\n",
    "pRemove = 0.002\n",
    "\n",
    "# Vaccination parameter\n",
    "pVaccinated = 0.6       # 60% vaccination at random"
   ]
  },
  {
   "cell_type": "code",
   "execution_count": 9,
   "id": "279e62c2",
   "metadata": {},
   "outputs": [
    {
     "data": {
      "text/plain": [
       "True"
      ]
     },
     "execution_count": 9,
     "metadata": {},
     "output_type": "execute_result"
    }
   ],
   "source": [
    "lab.createWith(\"sirv_plc_random\",\n",
    "               makeVaccinated(N, alpha, cutoffs,\n",
    "                              pInfected, pInfect, pRemove, pVaccinated,\n",
    "                              T),\n",
    "               \"SIR with random vaccination on PLC networks\")"
   ]
  },
  {
   "cell_type": "markdown",
   "id": "92ab1634",
   "metadata": {},
   "source": [
    "To plot the monitored time series we use the `Monitor.timeSeriesForCompartment` static method that converts a compartment name into the corresponding time series in the results."
   ]
  },
  {
   "cell_type": "code",
   "execution_count": 10,
   "id": "b16b3812",
   "metadata": {},
   "outputs": [
    {
     "data": {
      "image/png": "[encoded data removed]",
      "text/plain": [
       "<Figure size 1000x1000 with 4 Axes>"
      ]
     },
     "metadata": {},
     "output_type": "display_data"
    }
   ],
   "source": [
    "nb.select(\"sirv_plc_random\")\n",
    "df = lab.dataframe()\n",
    "    \n",
    "(fig, axs) = plt.subplots(2, 2, sharex=True, sharey=True,\n",
    "                          figsize=(10, 10))\n",
    "\n",
    "for (ax, cutoff) in [ (axs[0][0], cutoffs[0]),\n",
    "                      (axs[0][1], cutoffs[1]),\n",
    "                      (axs[1][0], cutoffs[2]), \n",
    "                      (axs[1][1], cutoffs[3]) ]:\n",
    "    rc = df[df[PLCNetwork.CUTOFF] == cutoff]\n",
    "    timeseries = rc.iloc[0]\n",
    "    ts = timeseries[Monitor.OBSERVATIONS]\n",
    "    sss = timeseries[Monitor.timeSeriesForLocus(SIR.SUSCEPTIBLE)]\n",
    "    iss = timeseries[Monitor.timeSeriesForLocus(SIR.INFECTED)]\n",
    "    rss = timeseries[Monitor.timeSeriesForLocus(SIR.REMOVED)]\n",
    "\n",
    "    ax.plot(ts, sss, 'r.', label='suceptible')\n",
    "    ax.plot(ts, iss, 'g.', label='infected')\n",
    "    #ax.plot(ts, rss, 'ks', label='removed')\n",
    "\n",
    "    ax.set_title('$\\\\kappa = {kappa:.0f}$'.format(kappa=cutoff))\n",
    "    ax.set_xlim([0, T])\n",
    "    ax.set_ylim([0, N * (1.0 - pVaccinated - pInfected)])\n",
    "    ax.legend(loc='center right')\n",
    "\n",
    "# fine-tune the diagram\n",
    "plt.suptitle(f'SIR with {pVaccinated:.0%} random vaccination, PLC network ($N = {N}, \\\\alpha={alpha}$)')\n",
    "for y in range(2):\n",
    "    axs[y][0].set_ylabel('population that is...')\n",
    "for x in range(2):\n",
    "    axs[1][x].set_xlabel('$t$')\n",
    "\n",
    "plt.show()"
   ]
  },
  {
   "cell_type": "markdown",
   "id": "b1a18ba9",
   "metadata": {},
   "source": [
    "What can we tell from these graphs? Firstly, in a population of 10,000 individuals we only ever have about 4,000 susceptibles, because of the 60% removal through vaccination. At low cutoffs vaccination is extremely effective. As the cutoff increases we see that the outbreak becomes both more severe (more people are infected because of the increased contacts) and faster (the outbreak peaks earlier). With 60% vaccination on the most-connected network we still get about 10% of the population infected. This is *herd immunity* at work, but getting it required reaching quite a large fraction of the population ahead of time for vaccination. Could we do better?"
   ]
  },
  {
   "cell_type": "markdown",
   "id": "85ea793d",
   "metadata": {},
   "source": [
    "## Exploring degree"
   ]
  },
  {
   "cell_type": "markdown",
   "id": "20ac9075",
   "metadata": {},
   "source": [
    "Let's dig-in to the degree distribtion of our population a little by creating a network and extracting its degree statistics."
   ]
  },
  {
   "cell_type": "code",
   "execution_count": 11,
   "id": "0e35f636",
   "metadata": {},
   "outputs": [],
   "source": [
    "params = dict()\n",
    "params[PLCNetwork.N] = N\n",
    "params[PLCNetwork.EXPONENT] = alpha\n",
    "params[PLCNetwork.CUTOFF] = cutoffs[-1]    # the highest cutoff\n",
    "g = PLCNetwork().set(params).generate()"
   ]
  },
  {
   "cell_type": "code",
   "execution_count": 12,
   "id": "f21946a1",
   "metadata": {},
   "outputs": [
    {
     "name": "stdout",
     "output_type": "stream",
     "text": [
      "Maximum degree = 91\n",
      "Mean node degree = 2.65\n"
     ]
    }
   ],
   "source": [
    "ks = sorted(list(dict(networkx.degree(g)).values()))\n",
    "print(f'Maximum degree = {max(ks)}')\n",
    "print(f'Mean node degree = {numpy.mean(ks):.2f}')"
   ]
  },
  {
   "cell_type": "markdown",
   "id": "4dc3bad7",
   "metadata": {},
   "source": [
    "That's quite a difference! The highest-degree nodes have degrees close to the cutoff."
   ]
  },
  {
   "cell_type": "code",
   "execution_count": 13,
   "id": "18379287",
   "metadata": {},
   "outputs": [
    {
     "name": "stdout",
     "output_type": "stream",
     "text": [
      "Highest 10 nodes by degree [65, 66, 67, 74, 77, 78, 78, 85, 85, 91]\n"
     ]
    }
   ],
   "source": [
    "h = 10\n",
    "print('Highest {h} nodes by degree {l}'.format(h=h, l=ks[-h:]))"
   ]
  },
  {
   "cell_type": "markdown",
   "id": "5cef01b7",
   "metadata": {},
   "source": [
    "We might assume that these nodes &ndash; the high-degree hubs &ndash; will be most effective in spreading the disease. Let's test this in reverse, by *avoiding* vaccinating the high-degree nodes. If that sounds perverse, it essentially models a *failed* vaccination strategy and its effects."
   ]
  },
  {
   "cell_type": "code",
   "execution_count": 14,
   "id": "4eb9edd6",
   "metadata": {},
   "outputs": [],
   "source": [
    "class VaccinatedLowDegreeSIR(VaccinatedSIR):\n",
    "\n",
    "    K_HIGH_FRACTION = 'k_high_fraction'\n",
    "    \n",
    "    def __init__(self):\n",
    "        super().__init__()\n",
    "        \n",
    "    def setUp(self, params):\n",
    "        super().setUp(params)\n",
    "        \n",
    "        # look through the fraction of high-degree nodes and\n",
    "        # make them susceptible again, replacing them with\n",
    "        # another node chosen at random\n",
    "        rng = numpy.random.default_rng()\n",
    "        g = self.network()\n",
    "        ns = list(g.nodes())\n",
    "        h = int(len(ns) * params[self.K_HIGH_FRACTION])\n",
    "        degrees = dict(networkx.degree(g))\n",
    "        ks = sorted(list(degrees.values()))\n",
    "        ks_high = set(ks[-h:])\n",
    "        ns_high = [n for n in ns if degrees[n] in ks_high]\n",
    "        for n in ns_high:\n",
    "            if self.getCompartment(n) == self.REMOVED:\n",
    "                # node is removed, make it susceptible again\n",
    "                self.setCompartment(n, self.SUSCEPTIBLE)\n",
    "                \n",
    "                # choose another node and remove it in\n",
    "                # place of the node we just forced to\n",
    "                # be susceptible\n",
    "                while True:\n",
    "                    i = rng.integers(0, len(ns) - 1)\n",
    "                    m = ns[i]\n",
    "                    if self.getCompartment(m) == self.SUSCEPTIBLE:\n",
    "                        # found a susceptible node, remove it\n",
    "                        self.changeCompartment(m, self.REMOVED)\n",
    "                        break"
   ]
  },
  {
   "cell_type": "code",
   "execution_count": 15,
   "id": "17748e59",
   "metadata": {},
   "outputs": [],
   "source": [
    "def makeVaccinatedLowDegree(N, alpha, cutoff,\n",
    "                            pInfected, pInfect, pRemove, pVaccinated,\n",
    "                            kHighFraction,\n",
    "                            T):\n",
    "    \n",
    "    def sir_lovac(lab):\n",
    "        lab[SIR.P_INFECTED] = pInfected\n",
    "        lab[SIR.P_INFECT] = pInfect\n",
    "        lab[SIR.P_REMOVE] = pRemove\n",
    "        lab[VaccinatedSIR.P_VACCINATED] = pVaccinated\n",
    "        lab[VaccinatedLowDegreeSIR.K_HIGH_FRACTION] = kHighFraction\n",
    "        lab[PLCNetwork.N] = N\n",
    "        lab[PLCNetwork.EXPONENT] = alpha\n",
    "        lab[PLCNetwork.CUTOFF] = cutoff\n",
    "        lab[Monitor.DELTA] = T / 50\n",
    "\n",
    "        v = VaccinatedLowDegreeSIR()\n",
    "        v.setMaximumTime(T)\n",
    "        m = ProcessSequence([v, Monitor()])\n",
    "        e = StochasticDynamics(m, PLCNetwork())\n",
    "        lab.runExperiment(e)\n",
    "        \n",
    "    return sir_lovac"
   ]
  },
  {
   "cell_type": "markdown",
   "id": "569da0f6",
   "metadata": {},
   "source": [
    "Let's focus on the highest-connected network."
   ]
  },
  {
   "cell_type": "code",
   "execution_count": 16,
   "id": "db0a6a62",
   "metadata": {},
   "outputs": [],
   "source": [
    "cutoff = cutoffs[-1]\n",
    "kHighFraction = 0.08      # avoid the top 8% of the degree distribution"
   ]
  },
  {
   "cell_type": "code",
   "execution_count": 17,
   "id": "b18d85fa",
   "metadata": {},
   "outputs": [
    {
     "data": {
      "text/plain": [
       "True"
      ]
     },
     "execution_count": 17,
     "metadata": {},
     "output_type": "execute_result"
    }
   ],
   "source": [
    "lab.createWith(\"sirv_plc_lowdegree\",\n",
    "               makeVaccinatedLowDegree(N, alpha, cutoff,\n",
    "                                       pInfected, pInfect, pRemove, pVaccinated,\n",
    "                                       kHighFraction,\n",
    "                                       T),\n",
    "               \"SIR avoiding the highest-degree nodes on PLC networks\")"
   ]
  },
  {
   "cell_type": "markdown",
   "id": "3c240dbb",
   "metadata": {},
   "source": [
    "This simulation has run essentially the disease process as the first one above, but has avoided vaccinating the most-connected fraction. We can put the two results side by side to compare them."
   ]
  },
  {
   "cell_type": "code",
   "execution_count": 18,
   "id": "0c5c0555",
   "metadata": {},
   "outputs": [
    {
     "data": {
      "image/png": "[encoded data removed]",
      "text/plain": [
       "<Figure size 1000x500 with 2 Axes>"
      ]
     },
     "metadata": {},
     "output_type": "display_data"
    }
   ],
   "source": [
    "(fig, axs) = plt.subplots(1, 2, sharey=True,\n",
    "                          figsize=(10, 5))\n",
    "\n",
    "# plot the original behaviour\n",
    "nb.select(\"sirv_plc_random\")\n",
    "df = lab.dataframe()\n",
    "\n",
    "ax = axs[0]\n",
    "rc = df[df[PLCNetwork.CUTOFF] == cutoff]\n",
    "timeseries = rc.iloc[0]\n",
    "ts = timeseries[Monitor.OBSERVATIONS]\n",
    "sss = timeseries[Monitor.timeSeriesForLocus(SIR.SUSCEPTIBLE)]\n",
    "iss = timeseries[Monitor.timeSeriesForLocus(SIR.INFECTED)]\n",
    "rss = timeseries[Monitor.timeSeriesForLocus(SIR.REMOVED)]\n",
    "\n",
    "ax.plot(ts, sss, 'r.', label='suceptible')\n",
    "ax.plot(ts, iss, 'g.', label='infected')\n",
    "#ax.plot(ts, rss, 'ks', label='removed')\n",
    "\n",
    "ax.set_title(f'Random {pVaccinated:.0%} vaccination, $\\\\kappa = {cutoff:.0f}$')\n",
    "ax.set_xlim([0, T])\n",
    "ax.set_ylim([0, N])\n",
    "ax.legend(loc='upper right')\n",
    "\n",
    "# plot the targetted behaviour\n",
    "nb.select(\"sirv_plc_lowdegree\")\n",
    "df = lab.dataframe()\n",
    "ax = axs[1]\n",
    "\n",
    "rc = df[df[PLCNetwork.CUTOFF] == cutoff]\n",
    "timeseries = rc.iloc[0]\n",
    "ts = timeseries[Monitor.OBSERVATIONS]\n",
    "sss = timeseries[Monitor.timeSeriesForLocus(SIR.SUSCEPTIBLE)]\n",
    "iss = timeseries[Monitor.timeSeriesForLocus(SIR.INFECTED)]\n",
    "rss = timeseries[Monitor.timeSeriesForLocus(SIR.REMOVED)]\n",
    "\n",
    "ax.plot(ts, sss, 'r.', label='suceptible')\n",
    "ax.plot(ts, iss, 'g.', label='infected')\n",
    "#ax.plot(ts, rss, 'ks', label='removed')\n",
    "\n",
    "ax.set_title(f'Avoiding the top {kHighFraction:.0%} high-degree nodes, $\\\\kappa = {cutoff:.0f}$')\n",
    "ax.set_xlim([0, T])\n",
    "ax.legend(loc='upper right')\n",
    "\n",
    "plt.show()"
   ]
  },
  {
   "cell_type": "markdown",
   "id": "f09263a0",
   "metadata": {},
   "source": [
    "So avoiding the top-degree nodes both significantly increased the outbreak size and made it happen sooner and faster. This strongly supports the hypothesis that it's important to vaccinate the individuals with the most social contact &ndash; and lets us quantify this."
   ]
  },
  {
   "cell_type": "markdown",
   "id": "d90c94a6",
   "metadata": {},
   "source": [
    "## Targetted vaccination"
   ]
  },
  {
   "cell_type": "markdown",
   "id": "c983909f",
   "metadata": {},
   "source": [
    "So now let's make use of what we've learned to develop a vaccination strategy that might work better: target the high-degree nodes. We could use this as well as random vaccination, and in reality that's often what happens. But to bring out the effect of degree as strongly as possible, we'll instead vaccinate the highest-degree nodes *and only those nodes*, leaving the rest of the population susceptible. This is a radical strategy in practice, but helps us explore the space of possible approaches.\n",
    "\n",
    "In defining the disease model we'll again build on the SIR process and again capture the time series of all the compartments for plotting later. By default SIR has no removed nodes, and once that set-up is complete we'll change the compartments of the highest-degree nodes by hand."
   ]
  },
  {
   "cell_type": "code",
   "execution_count": 19,
   "id": "a141dce9",
   "metadata": {},
   "outputs": [],
   "source": [
    "class VaccinatedHighDegreeSIR(SIR):\n",
    "\n",
    "    K_VACCINATED_FRACTION = 'k_vaccinated_fraction'\n",
    "    \n",
    "    def __init__(self):\n",
    "        super().__init__()\n",
    "        \n",
    "    def build(self, params):\n",
    "        super().build(params)\n",
    "        \n",
    "        # also monitor other compartments\n",
    "        self.trackNodesInCompartment(SIR.SUSCEPTIBLE)\n",
    "        self.trackNodesInCompartment(SIR.REMOVED)       \n",
    "        \n",
    "    def setUp(self, params):\n",
    "        super().setUp(params)\n",
    "\n",
    "        # look for the fraction of highest-degree nodes\n",
    "        # and vaccinate (remove) them\n",
    "        g = self.network()\n",
    "        ns = list(g.nodes())\n",
    "        h = int(len(ns) * params[self.K_VACCINATED_FRACTION])\n",
    "        degrees = dict(networkx.degree(g))\n",
    "        ks = sorted(list(degrees.values()))\n",
    "        ks_high = set(ks[-h:])\n",
    "        ns_high = [n for n in ns if degrees[n] in ks_high]\n",
    "        for n in ns_high:\n",
    "            # remove (vaccinate) the node\n",
    "            self.changeCompartment(n, self.REMOVED)"
   ]
  },
  {
   "cell_type": "code",
   "execution_count": 20,
   "id": "f4e825c8",
   "metadata": {},
   "outputs": [],
   "source": [
    "def makeVaccinatedHighDegree(N, alpha, cutoff,\n",
    "                             pInfected, pInfect, pRemove,\n",
    "                             kVaccinatedFraction,\n",
    "                             T):\n",
    "    \n",
    "    def sir_hivac(lab):\n",
    "        lab[SIR.P_INFECTED] = pInfected\n",
    "        lab[SIR.P_INFECT] = pInfect\n",
    "        lab[SIR.P_REMOVE] = pRemove\n",
    "        lab[VaccinatedHighDegreeSIR.K_VACCINATED_FRACTION] = kVaccinatedFraction\n",
    "        lab[PLCNetwork.N] = N\n",
    "        lab[PLCNetwork.EXPONENT] = alpha\n",
    "        lab[PLCNetwork.CUTOFF] = cutoff\n",
    "        lab[Monitor.DELTA] = T / 50\n",
    "\n",
    "        v = VaccinatedHighDegreeSIR()\n",
    "        v.setMaximumTime(T)\n",
    "        m = ProcessSequence([v, Monitor()])\n",
    "        e = StochasticDynamics(m, PLCNetwork())\n",
    "        lab.runExperiment(e)\n",
    "        \n",
    "    return sir_hivac"
   ]
  },
  {
   "cell_type": "markdown",
   "id": "b9ffd15b",
   "metadata": {},
   "source": [
    "Since we've said that this is a radical strategy, let's be *really* aggressive and target only a tiny fraction of the nodes for vaccination."
   ]
  },
  {
   "cell_type": "code",
   "execution_count": 21,
   "id": "4ca1b506",
   "metadata": {},
   "outputs": [],
   "source": [
    "kVaccinatedFraction = 0.03   # top 3% of high-degree nodes"
   ]
  },
  {
   "cell_type": "code",
   "execution_count": 22,
   "id": "7ce0643c",
   "metadata": {},
   "outputs": [
    {
     "data": {
      "text/plain": [
       "True"
      ]
     },
     "execution_count": 22,
     "metadata": {},
     "output_type": "execute_result"
    }
   ],
   "source": [
    "lab.createWith(\"sirv_plc_highdegree\",\n",
    "               makeVaccinatedHighDegree(N, alpha, cutoff,\n",
    "                                        pInfected, pInfect, pRemove,\n",
    "                                        kVaccinatedFraction,\n",
    "                                        T),\n",
    "               \"SIR with targetted vaccination of high-degre nodes on PLC networks\")"
   ]
  },
  {
   "cell_type": "markdown",
   "id": "efbf9cb7",
   "metadata": {},
   "source": [
    "Again we can compare our results against the baseline random strategy."
   ]
  },
  {
   "cell_type": "code",
   "execution_count": 23,
   "id": "9bfec001",
   "metadata": {},
   "outputs": [
    {
     "data": {
      "image/png": "[encoded data removed]",
      "text/plain": [
       "<Figure size 1000x500 with 2 Axes>"
      ]
     },
     "metadata": {},
     "output_type": "display_data"
    }
   ],
   "source": [
    "(fig, axs) = plt.subplots(1, 2, sharey=True,\n",
    "                          figsize=(10, 5))\n",
    "\n",
    "# plot the original behaviour\n",
    "nb.select(\"sirv_plc_random\")\n",
    "df = lab.dataframe()\n",
    "\n",
    "ax = axs[0]\n",
    "rc = df[df[PLCNetwork.CUTOFF] == cutoff]\n",
    "timeseries = rc.iloc[0]\n",
    "ts = timeseries[Monitor.OBSERVATIONS]\n",
    "sss = timeseries[Monitor.timeSeriesForLocus(SIR.SUSCEPTIBLE)]\n",
    "iss = timeseries[Monitor.timeSeriesForLocus(SIR.INFECTED)]\n",
    "rss = timeseries[Monitor.timeSeriesForLocus(SIR.REMOVED)]\n",
    "\n",
    "ax.plot(ts, sss, 'r.', label='suceptible')\n",
    "ax.plot(ts, iss, 'g.', label='infected')\n",
    "#ax.plot(ts, rss, 'ks', label='removed')\n",
    "\n",
    "ax.set_title(f'Random {pVaccinated:.0%} vaccination, $\\\\kappa = {cutoff:.0f}$')\n",
    "ax.set_xlim([0, T])\n",
    "ax.legend(loc='upper right')\n",
    "\n",
    "# plot the targetted behaviour\n",
    "nb.select(\"sirv_plc_highdegree\")\n",
    "df = lab.dataframe()\n",
    "ax = axs[1]\n",
    "\n",
    "rc = df[df[PLCNetwork.CUTOFF] == cutoff]\n",
    "timeseries = rc.iloc[0]\n",
    "ts = timeseries[Monitor.OBSERVATIONS]\n",
    "sss = timeseries[Monitor.timeSeriesForLocus(SIR.SUSCEPTIBLE)]\n",
    "iss = timeseries[Monitor.timeSeriesForLocus(SIR.INFECTED)]\n",
    "rss = timeseries[Monitor.timeSeriesForLocus(SIR.REMOVED)]\n",
    "\n",
    "ax.plot(ts, sss, 'r.', label='suceptible')\n",
    "ax.plot(ts, iss, 'g.', label='infected')\n",
    "#ax.plot(ts, rss, 'ks', label='removed')\n",
    "\n",
    "ax.set_title(f'Targeting the top {kVaccinatedFraction:.0%}-degree nodes, $\\\\kappa = {cutoff:.0f}$')\n",
    "ax.set_xlim([0, T])\n",
    "ax.set_ylim([0, N])\n",
    "ax.legend(loc='upper right')\n",
    "\n",
    "plt.show()"
   ]
  },
  {
   "cell_type": "markdown",
   "id": "25eeb3c7",
   "metadata": {},
   "source": [
    "What can we extract from this? There is still an outbreak, and it's actually bigger than the random-vaccinated case. But is occurs substantially more slowly, and gets an impressive reduction given that it only targets a tiny number of individuals. What would happen if we vaccinated slightly more individuals? &ndash; how does the effectiveness of targeting vary?\n",
    "\n",
    "What this shows us is that targeted adaptive strategies can be extremely effective in changing the course of outbreaks. The random strategy requires mobilising a lot of resources, and similar results can be achieved far more cheaply (in resource terms, anyway) by targeting these resources &ndash; if we know whom and how to target.\n",
    "\n",
    "This is the perhaps simplest model of vaccination, of course. There are several ways in which it can be extended, to include partial immunity, or different targeting choices, or elongated vaccination programmes running alongside the outbreak (making the adaptation extrinsic to the disease). This would allow exploration of a wider range of strategies for disease countermeasures."
   ]
  }
 ],
 "metadata": {
  "kernelspec": {
   "display_name": "Python 3 (ipykernel)",
   "language": "python",
   "name": "python3"
  },
  "language_info": {
   "codemirror_mode": {
    "name": "ipython",
    "version": 3
   },
   "file_extension": ".py",
   "mimetype": "text/x-python",
   "name": "python",
   "nbconvert_exporter": "python",
   "pygments_lexer": "ipython3",
   "version": "3.11.2"
  }
 },
 "nbformat": 4,
 "nbformat_minor": 5
}
